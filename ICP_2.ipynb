{
  "nbformat": 4,
  "nbformat_minor": 0,
  "metadata": {
    "colab": {
      "provenance": []
    },
    "kernelspec": {
      "name": "python3",
      "display_name": "Python 3"
    },
    "language_info": {
      "name": "python"
    }
  },
  "cells": [
    {
      "cell_type": "code",
      "execution_count": 13,
      "metadata": {
        "colab": {
          "base_uri": "https://localhost:8080/"
        },
        "id": "vP00st4lKXMR",
        "outputId": "7cb53360-4d71-4817-be0b-092e470a08a1"
      },
      "outputs": [
        {
          "output_type": "stream",
          "name": "stdout",
          "text": [
            "Average Salary for Employees: 45000.0\n",
            "Average Salary for Fulltime Employees: 28750.0\n"
          ]
        }
      ],
      "source": [
        "class Employee:\n",
        "    employee_count = 0\n",
        "\n",
        "    def __init__(self, name, family, salary, department):\n",
        "        self.name = name\n",
        "        self.family = family\n",
        "        self.salary = salary\n",
        "        self.department = department\n",
        "        Employee.employee_count += 1\n",
        "\n",
        "    def average_salary(self, total_salary):\n",
        "        return total_salary / Employee.employee_count\n",
        "\n",
        "class FulltimeEmployee(Employee):\n",
        "    pass\n",
        "\n",
        "employee1 = Employee(\"Nitish Harsha\", \"Somarapu\", 85000, \"Logistics\")\n",
        "employee2 = Employee(\"Honey\", \"Somarapu\", 95000, \"Finance\")\n",
        "\n",
        "fulltime_employee1 = FulltimeEmployee(\"Mani\", \"Somarapu\", 65000, \"IT\")\n",
        "fulltime_employee2 = FulltimeEmployee(\"Nitish\", \"Somarapu\", 50000, \"HR\")\n",
        "\n",
        "total_salary_employees = employee1.salary + employee2.salary\n",
        "average_salary_employees = employee1.average_salary(total_salary_employees)\n",
        "\n",
        "total_salary_fulltime_employees = fulltime_employee1.salary + fulltime_employee2.salary\n",
        "average_salary_fulltime_employees = fulltime_employee1.average_salary(total_salary_fulltime_employees)\n",
        "\n",
        "print(\"Average Salary for Employees:\", average_salary_employees)\n",
        "print(\"Average Salary for Fulltime Employees:\", average_salary_fulltime_employees)"
      ]
    },
    {
      "cell_type": "code",
      "source": [
        "import numpy as np\n",
        "random_vector = np.random.uniform(1, 20, 20)\n",
        "print(\"Original Random Vector:\\n\", random_vector)"
      ],
      "metadata": {
        "colab": {
          "base_uri": "https://localhost:8080/"
        },
        "id": "iDvdO2wvLbyx",
        "outputId": "394c2bb5-83ad-42a8-937a-3dc971f5c633"
      },
      "execution_count": 14,
      "outputs": [
        {
          "output_type": "stream",
          "name": "stdout",
          "text": [
            "Original Random Vector:\n",
            " [13.99152603 12.23731993  4.75117876  6.55871617 18.64533101 19.31917355\n",
            "  3.68814256 13.89411908 17.72515848  7.16987315  1.87784156  7.19660106\n",
            " 11.00834709  3.79677802 19.24692108 13.81800118 15.74214202  5.72130686\n",
            "  5.85311931 19.84287571]\n"
          ]
        }
      ]
    },
    {
      "cell_type": "code",
      "source": [
        "reshaped_array = random_vector.reshape(4, 5)\n",
        "print(reshaped_array)"
      ],
      "metadata": {
        "colab": {
          "base_uri": "https://localhost:8080/"
        },
        "id": "inoCqeegLgx-",
        "outputId": "31da55a7-4fdd-4bf8-8fe2-8ba964eb7721"
      },
      "execution_count": 15,
      "outputs": [
        {
          "output_type": "stream",
          "name": "stdout",
          "text": [
            "[[13.99152603 12.23731993  4.75117876  6.55871617 18.64533101]\n",
            " [19.31917355  3.68814256 13.89411908 17.72515848  7.16987315]\n",
            " [ 1.87784156  7.19660106 11.00834709  3.79677802 19.24692108]\n",
            " [13.81800118 15.74214202  5.72130686  5.85311931 19.84287571]]\n"
          ]
        }
      ]
    },
    {
      "cell_type": "code",
      "source": [
        "reshaped_array[np.arange(4), reshaped_array.argmax(axis=1)] = 0\n",
        "print(\"Reshaped Array:\\n\", reshaped_array)"
      ],
      "metadata": {
        "id": "geJ4fUXlLj-C",
        "outputId": "f6667f6b-77cb-4b55-fa94-e41dfeeee818",
        "colab": {
          "base_uri": "https://localhost:8080/"
        }
      },
      "execution_count": 17,
      "outputs": [
        {
          "output_type": "stream",
          "name": "stdout",
          "text": [
            "Reshaped Array:\n",
            " [[ 0.         12.23731993  4.75117876  6.55871617  0.        ]\n",
            " [ 0.          3.68814256 13.89411908  0.          7.16987315]\n",
            " [ 1.87784156  7.19660106  0.          3.79677802  0.        ]\n",
            " [13.81800118  0.          5.72130686  5.85311931  0.        ]]\n"
          ]
        }
      ]
    }
  ]
}